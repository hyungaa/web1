{
  "nbformat": 4,
  "nbformat_minor": 0,
  "metadata": {
    "colab": {
      "name": "ML_chapter_4.ipynb",
      "provenance": [],
      "collapsed_sections": [],
      "toc_visible": true,
      "include_colab_link": true
    },
    "kernelspec": {
      "name": "python3",
      "display_name": "Python 3"
    }
  },
  "cells": [
    {
      "cell_type": "markdown",
      "metadata": {
        "id": "view-in-github",
        "colab_type": "text"
      },
      "source": [
        "<a href=\"https://colab.research.google.com/github/hyungaa/web1/blob/master/ML_chapter_4.ipynb\" target=\"_parent\"><img src=\"https://colab.research.google.com/assets/colab-badge.svg\" alt=\"Open In Colab\"/></a>"
      ]
    },
    {
      "cell_type": "markdown",
      "metadata": {
        "id": "FvLRwgXWEg8T"
      },
      "source": [
        "# **제4장 다양한 자료 다뤄보기**"
      ]
    },
    {
      "cell_type": "markdown",
      "metadata": {
        "id": "dMWOt56qEa3E"
      },
      "source": [
        "# **1. 리스트의 이해**"
      ]
    },
    {
      "cell_type": "markdown",
      "metadata": {
        "id": "mUcSlRlyoO3N"
      },
      "source": [
        "**리스트 생성**"
      ]
    },
    {
      "cell_type": "code",
      "metadata": {
        "id": "xNAHjl6RjlmE",
        "outputId": "02846af7-7843-4d5b-87a0-e09df19021c8",
        "colab": {
          "base_uri": "https://localhost:8080/",
          "height": 71
        }
      },
      "source": [
        "list_1 = [10, 25, 70, 0.5] # 10, 25, 70, 0.5를 가진 리스트 선언\n",
        "list_2 = ['파이썬','머신러닝','딥러닝'] # 문자열들을 가진 리스트 선언\n",
        "list_3 = [2.7, 8, '파이썬', '머신러닝'] # 서로 다른 타입의 값으로 리스트 선언\n",
        "\n",
        "# 리스트 출력\n",
        "print(list_1)\n",
        "print(list_2)\n",
        "print(list_3) "
      ],
      "execution_count": null,
      "outputs": [
        {
          "output_type": "stream",
          "text": [
            "[10, 25, 70, 0.5]\n",
            "['파이썬', '머신러닝', '딥러닝']\n",
            "[2.7, 8, '파이썬', '머신러닝']\n"
          ],
          "name": "stdout"
        }
      ]
    },
    {
      "cell_type": "markdown",
      "metadata": {
        "id": "9zxVv1GBofsz"
      },
      "source": [
        "**리스트 인덱싱/슬라이싱**"
      ]
    },
    {
      "cell_type": "code",
      "metadata": {
        "id": "ugBEaY16n3lD",
        "outputId": "9283de88-7d5b-4f95-b22c-b9e9ba54d88c",
        "colab": {
          "base_uri": "https://localhost:8080/",
          "height": 89
        }
      },
      "source": [
        "list_1 = [10, 25, 70, 0.5]\n",
        "list_2 = ['파이썬','머신러닝','딥러닝']\n",
        "list_3 = [2.7, 8, '파이썬', '머신러닝']\n",
        "\n",
        "print(list_1[0]) # list_1의 첫번째 값 출력\n",
        "print(list_1[0:3]) # list_1의 첫 번째부터 세 번째값까지 출력\n",
        "print(list_2[1:3]) # list_2의 두 번째부터 문자열부터 세 번째 문자열까지 출력\n",
        "print(list_3.index(8)) # list_3에서 8의 index를 출력"
      ],
      "execution_count": null,
      "outputs": [
        {
          "output_type": "stream",
          "text": [
            "10\n",
            "[10, 25, 70]\n",
            "['머신러닝', '딥러닝']\n",
            "1\n"
          ],
          "name": "stdout"
        }
      ]
    },
    {
      "cell_type": "markdown",
      "metadata": {
        "id": "0y_mHRqkqFq2"
      },
      "source": [
        "**리스트 요소 추가**"
      ]
    },
    {
      "cell_type": "code",
      "metadata": {
        "id": "EV2jIVd2qFV4",
        "outputId": "50840f51-3502-4730-fadc-170266aa5959",
        "colab": {
          "base_uri": "https://localhost:8080/",
          "height": 53
        }
      },
      "source": [
        "list_1 = [10, 25, 0.5]\n",
        "list_2 = ['파이썬','머신러닝']\n",
        "\n",
        "list_1.append(100) # list_1에 100을 추가\n",
        "list_2.append('난이도') # list_2에 문자열 '난이도'를 추가\n",
        "print(list_1, list_2) # list_1, list_2를 순서대로 출력\n",
        "list_1.insert(0,'서울') # 문자열 '서울'을 list_1의 첫 번째 요소로 삽입\n",
        "list_2.extend(list_1) # list_2과 list_1을 이어 붙임\n",
        "print(list_1, list_2)"
      ],
      "execution_count": null,
      "outputs": [
        {
          "output_type": "stream",
          "text": [
            "[10, 25, 0.5, 100] ['파이썬', '머신러닝', '난이도']\n",
            "['서울', 10, 25, 0.5, 100] ['파이썬', '머신러닝', '난이도', '서울', 10, 25, 0.5, 100]\n"
          ],
          "name": "stdout"
        }
      ]
    },
    {
      "cell_type": "markdown",
      "metadata": {
        "id": "Y5aF7-TguL-b"
      },
      "source": [
        "**리스트 요소 삭제**"
      ]
    },
    {
      "cell_type": "code",
      "metadata": {
        "id": "mw0Txqxuq-Nh",
        "outputId": "0525709b-0e19-49f4-fb6c-c54d0711c61b",
        "colab": {
          "base_uri": "https://localhost:8080/",
          "height": 53
        }
      },
      "source": [
        "list_1 = [10, 25, 0.5]\n",
        "list_2 = ['파이썬','머신러닝', 32]\n",
        "\n",
        "list_1.pop(1) # list_1의 두 번째 값을 꺼냄\n",
        "list_2.pop(0) # list_2의 첫 번째 값을 꺼냄\n",
        "print(list_1, list_2) \n",
        "list_1.remove(0.5) # list_1에서 0.5를 삭제\n",
        "list_2.clear() # list_2를 비움\n",
        "print(list_1, list_2)"
      ],
      "execution_count": null,
      "outputs": [
        {
          "output_type": "stream",
          "text": [
            "[10, 0.5] ['머신러닝', 32]\n",
            "[10] []\n"
          ],
          "name": "stdout"
        }
      ]
    },
    {
      "cell_type": "markdown",
      "metadata": {
        "id": "pAQc3IjBwhyJ"
      },
      "source": [
        "**리스트 정렬/카운트**"
      ]
    },
    {
      "cell_type": "code",
      "metadata": {
        "id": "QeUoCl0jwmWw",
        "outputId": "f691996d-e6e0-455c-fc57-6435d4358a82",
        "colab": {
          "base_uri": "https://localhost:8080/",
          "height": 71
        }
      },
      "source": [
        "list = [10, 40, 30, 20, 10]\n",
        "\n",
        "list.sort() # list를 순서대로 정렬\n",
        "print(list)\n",
        "list.reverse() # list의 순서를 반대로 반전시킴\n",
        "print(list)\n",
        "list.count(10) # list안에 있는 10의 개수를 반환"
      ],
      "execution_count": null,
      "outputs": [
        {
          "output_type": "stream",
          "text": [
            "[10, 10, 20, 30, 40]\n",
            "[40, 30, 20, 10, 10]\n"
          ],
          "name": "stdout"
        },
        {
          "output_type": "execute_result",
          "data": {
            "text/plain": [
              "2"
            ]
          },
          "metadata": {
            "tags": []
          },
          "execution_count": 8
        }
      ]
    },
    {
      "cell_type": "markdown",
      "metadata": {
        "id": "L9tzXzMz9M-f"
      },
      "source": [
        "**for문에서 리스트 활용**"
      ]
    },
    {
      "cell_type": "code",
      "metadata": {
        "id": "47O703sGFJlQ",
        "outputId": "bd64b2f8-7d22-43e0-cd0b-8667527b7775",
        "colab": {
          "base_uri": "https://localhost:8080/",
          "height": 89
        }
      },
      "source": [
        "foods = ['피자', '햄버거', '치킨', '라면']\n",
        "\n",
        "for food in foods : # 리스트 foods에 있는 문자열들을 차례대로 food에 대입해가며 반복\n",
        "    print(food)"
      ],
      "execution_count": null,
      "outputs": [
        {
          "output_type": "stream",
          "text": [
            "피자\n",
            "햄버거\n",
            "치킨\n",
            "라면\n"
          ],
          "name": "stdout"
        }
      ]
    },
    {
      "cell_type": "markdown",
      "metadata": {
        "id": "QOfApo9xDvnu"
      },
      "source": [
        "**2차원 리스트**"
      ]
    },
    {
      "cell_type": "code",
      "metadata": {
        "id": "I0-vjQ8rDzFc",
        "outputId": "a3a2ca9b-4e0d-4ee6-a055-59f15c49158f",
        "colab": {
          "base_uri": "https://localhost:8080/",
          "height": 89
        }
      },
      "source": [
        "list_2d = [[3.14, 35, 701], ['파이썬', '머신러닝', '코딩']] # 2차원 리스트 선언\n",
        "\n",
        "print(list_2d[0]) # list_2d의 첫 번째 리스트 출력\n",
        "print(list_2d[1]) # list_2d의 두 번째 리스트 출력\n",
        "print(list_2d[0][1]) # list_2d의 첫 번째 리스트에 있는 두 번째 값을 출력\n",
        "print(list_2d[1][2]) # list_2d의 두 번째 리스트에 있는 세 번째 값을 출력"
      ],
      "execution_count": null,
      "outputs": [
        {
          "output_type": "stream",
          "text": [
            "[3.14, 35, 701]\n",
            "['파이썬', '머신러닝', '코딩']\n",
            "35\n",
            "코딩\n"
          ],
          "name": "stdout"
        }
      ]
    },
    {
      "cell_type": "markdown",
      "metadata": {
        "id": "vi4iuLnBJO6k"
      },
      "source": [
        "# **2. 튜플/리스트의 이해**"
      ]
    },
    {
      "cell_type": "markdown",
      "metadata": {
        "id": "fBE0LtGDTtwB"
      },
      "source": [
        "**튜플 생성**"
      ]
    },
    {
      "cell_type": "code",
      "metadata": {
        "id": "x6GO_B4aJSdD"
      },
      "source": [
        "tuple_1 = (10, 25, 70, '파이썬') # 10, 25, 70, '파이썬'을 가진 튜플 Tuple_1 선언\n",
        "\n",
        "print(tuple_1) # tuple_1 출력\n",
        "print(tuple_1[0]) # tuple_1에서 첫 번째 값을 출력\n",
        "print(tuple_1[:2]) # tuple_1에서 첫 번째부터 두 번째 값까지 출력\n",
        "tuple_1[1] = 21.4 # tuple_1[1]에 21.4를 대입 (!) Error: 리스트와 달리 Tuple안에 있는 값은 직접 수정 불가"
      ],
      "execution_count": null,
      "outputs": []
    },
    {
      "cell_type": "markdown",
      "metadata": {
        "id": "m8GvhQxZqyhd"
      },
      "source": [
        "**튜플 병합**"
      ]
    },
    {
      "cell_type": "code",
      "metadata": {
        "id": "77-yLAJgUNe4",
        "outputId": "9ca776c2-9e8a-4183-f8d1-4e7d4d245373",
        "colab": {
          "base_uri": "https://localhost:8080/",
          "height": 53
        }
      },
      "source": [
        "tuple_1 = (10, 25, 70, '파이썬')\n",
        "tuple_2 = (0.21, 2.14, 93.1)\n",
        "tuple_3 = tuple_1+ tuple_2 # tuple_1과 tuple_2을 이어 붙임\n",
        "\n",
        "print(tuple_3)\n",
        "print(len(tuple_1), len(tuple_3), sep=',') # tuple_1과 tuple_3의 길이를 ','로 구분하여 출력"
      ],
      "execution_count": null,
      "outputs": [
        {
          "output_type": "stream",
          "text": [
            "(10, 25, 70, '파이썬', 0.21, 2.14, 93.1)\n",
            "4,7\n"
          ],
          "name": "stdout"
        }
      ]
    },
    {
      "cell_type": "markdown",
      "metadata": {
        "id": "gawUKQRjquS4"
      },
      "source": [
        "**for문에서 튜플 사용**"
      ]
    },
    {
      "cell_type": "code",
      "metadata": {
        "id": "-2VbMI0kVTt3",
        "outputId": "9830cb96-5625-4332-d9f5-d7f515ac2269",
        "colab": {
          "base_uri": "https://localhost:8080/",
          "height": 89
        }
      },
      "source": [
        "tuple_1 = (10, 25, 70, '파이썬')\n",
        "\n",
        "for tuple in tuple_1: # tuple_1의 요소를 순서대로 tuple에 대입하며 반복\n",
        "  print(tuple)"
      ],
      "execution_count": null,
      "outputs": [
        {
          "output_type": "stream",
          "text": [
            "10\n",
            "25\n",
            "70\n",
            "파이썬\n"
          ],
          "name": "stdout"
        }
      ]
    },
    {
      "cell_type": "markdown",
      "metadata": {
        "id": "Tf0b9TBmwcfc"
      },
      "source": [
        "**딕셔너리 생성**"
      ]
    },
    {
      "cell_type": "code",
      "metadata": {
        "id": "ggBfJZVDtcGe",
        "outputId": "2fb7e801-be68-47a2-bf6c-1096f8ffe124",
        "colab": {
          "base_uri": "https://localhost:8080/",
          "height": 71
        }
      },
      "source": [
        "hunter = {'health': 230, 'power': 125, 'speed' : 130} # 딕셔너리 선언\n",
        "\n",
        "print(hunter) # 딕서너리 전체 출력\n",
        "print(hunter['power']) # hunter에서 'power'에 해당하는 값을 출력\n",
        "print(len(hunter)) # 딕셔너리 길이 출력"
      ],
      "execution_count": null,
      "outputs": [
        {
          "output_type": "stream",
          "text": [
            "{'health': 230, 'power': 125, 'speed': 130}\n",
            "125\n",
            "3\n"
          ],
          "name": "stdout"
        }
      ]
    },
    {
      "cell_type": "markdown",
      "metadata": {
        "id": "U4zuKw3JwZ1t"
      },
      "source": [
        "**딕셔너리 요소 다루기**"
      ]
    },
    {
      "cell_type": "code",
      "metadata": {
        "id": "gIjcbELTvBo7",
        "outputId": "9c4b0e81-7d60-405e-a029-7894c63d5762",
        "colab": {
          "base_uri": "https://localhost:8080/",
          "height": 107
        }
      },
      "source": [
        "hunter = {'health': 230, 'power': 125, 'speed' : 130}\n",
        "\n",
        "hunter['health'] = 500 # hunter의 'health'에 500 대입\n",
        "print(hunter)\n",
        "hunter['wisdom'] = 80 # hunter의 'wisdom'에 80을 대입하여 선언\n",
        "print(hunter)\n",
        "del hunter['power'] # hunter에서 'power'를 삭제\n",
        "print(hunter)\n",
        "print(hunter.keys()) # hunter의 키들을 출력\n",
        "print(hunter.values()) # hunter의 값들을 출력"
      ],
      "execution_count": null,
      "outputs": [
        {
          "output_type": "stream",
          "text": [
            "{'health': 500, 'power': 125, 'speed': 130}\n",
            "{'health': 500, 'power': 125, 'speed': 130, 'wisdom': 80}\n",
            "{'health': 500, 'speed': 130, 'wisdom': 80}\n",
            "dict_keys(['health', 'speed', 'wisdom'])\n",
            "dict_values([500, 130, 80])\n"
          ],
          "name": "stdout"
        }
      ]
    },
    {
      "cell_type": "markdown",
      "metadata": {
        "id": "MC1730qw2eB2"
      },
      "source": [
        " **for문에서 딕셔너리 사용**"
      ]
    },
    {
      "cell_type": "code",
      "metadata": {
        "id": "HPiXkHmx2lol",
        "outputId": "69f2605c-82be-4827-fb92-a8f197b4421d",
        "colab": {
          "base_uri": "https://localhost:8080/",
          "height": 179
        }
      },
      "source": [
        "hunter = {'health': 230, 'power': 125, 'speed' : 130}\n",
        "\n",
        "for key in hunter: # hunter의 키 값을 순서대로 대입하여 반복\n",
        "  print(key)\n",
        "for val in hunter.values(): #hunter의 value를 순서대로 val에 대입하여 반복 \n",
        "  print(val)\n",
        "for key, val in hunter.items(): # hunter의 items(key, value)를 순서대로 대입하여 반복\n",
        "  print(key, val, sep=',')"
      ],
      "execution_count": null,
      "outputs": [
        {
          "output_type": "stream",
          "text": [
            "health\n",
            "power\n",
            "speed\n",
            "230\n",
            "125\n",
            "130\n",
            "health,230\n",
            "power,125\n",
            "speed,130\n"
          ],
          "name": "stdout"
        }
      ]
    },
    {
      "cell_type": "markdown",
      "metadata": {
        "id": "l8PqfiAs1YrH"
      },
      "source": [
        "# **3. 함수와 라이브러리**"
      ]
    },
    {
      "cell_type": "markdown",
      "metadata": {
        "id": "0v9OMY6P1a7n"
      },
      "source": [
        "**함수의 정의와 호출**"
      ]
    },
    {
      "cell_type": "code",
      "metadata": {
        "id": "ZDgu5gzU1d0S",
        "outputId": "1fd7f18f-3e03-40e2-dc7c-ffd5df2bd134",
        "colab": {
          "base_uri": "https://localhost:8080/",
          "height": 35
        }
      },
      "source": [
        "def sum(x, y): # x, y를 입력으로 받는 함수 sum 정의 // x, y의 합을 결과로 반환\n",
        "\treturn x + y # 함수의 입력으로 받은 x, y의 합을 함수의 출력으로 반환\n",
        "\n",
        "sum(20, 30) # 위에서 정의된 sum 함수 호출 (20+30)"
      ],
      "execution_count": null,
      "outputs": [
        {
          "output_type": "execute_result",
          "data": {
            "text/plain": [
              "50"
            ]
          },
          "metadata": {
            "tags": []
          },
          "execution_count": 17
        }
      ]
    },
    {
      "cell_type": "markdown",
      "metadata": {
        "id": "PoWazFUZdZaL"
      },
      "source": [
        "**매개 변수가 여러 개인 경우**"
      ]
    },
    {
      "cell_type": "code",
      "metadata": {
        "id": "qBkDXbma5YgR",
        "outputId": "7695c270-4d86-4dbf-d0e6-02485de87a6c",
        "colab": {
          "base_uri": "https://localhost:8080/",
          "height": 53
        }
      },
      "source": [
        "def order(drink, cookie): # drink, cookie를 입력으로 받는 함수 order 선언 // 주문(order)받은 drink와 cookie를 화면에 출력\n",
        "  print('음료 :', drink,',','쿠키 :', cookie) # 함수의 입력으로 받은 drink cookie를 차례대로 출력\n",
        "\n",
        "order('아메리카노', '치즈쿠키') # order 함수 호출 (drink=아메리카노, cookie=치즈쿠키)\n",
        "order('카페라떼', '녹차쿠키')# order 함수 호출 (drink=카페라떼, cookie=녹차쿠키)"
      ],
      "execution_count": null,
      "outputs": [
        {
          "output_type": "stream",
          "text": [
            "음료 : 아메리카노 , 쿠키 : 치즈쿠키\n",
            "음료 : 카페라떼 , 쿠키 : 녹차쿠키\n"
          ],
          "name": "stdout"
        }
      ]
    },
    {
      "cell_type": "markdown",
      "metadata": {
        "id": "8O_hWqEqddrM"
      },
      "source": [
        "**여러 개의 입력 받기**"
      ]
    },
    {
      "cell_type": "code",
      "metadata": {
        "id": "uUvN9llT6Cd2",
        "outputId": "55807c9b-1ffa-4880-c563-98cafe34f621",
        "colab": {
          "base_uri": "https://localhost:8080/",
          "height": 35
        }
      },
      "source": [
        "def cal_many(*args): # tuple 형태의 복수 입력(tuple)을 갖는 cal_many 함수 선언 // 입력으로 받은 값의 총합을 반환\n",
        "  result = 0 \n",
        "  for i in args: # args의 값들을 i에 순서대로 대입하며 반복\n",
        "\t  result += i # result = result + i\n",
        "  return result # result를 함수의 출력으로 반환\n",
        "\n",
        "x = cal_many(2, 3, 4) # cal_many 함수를 호출하여 입력한 값의 총합 계산\n",
        "y = cal_many(2, 3, 4, 50, 2, 7) # cal_many 함수를 호출하여 입력한 값의 총합 계산\n",
        "print(x, y, sep=',')"
      ],
      "execution_count": null,
      "outputs": [
        {
          "output_type": "stream",
          "text": [
            "9,68\n"
          ],
          "name": "stdout"
        }
      ]
    },
    {
      "cell_type": "markdown",
      "metadata": {
        "id": "DIRupi6ddppy"
      },
      "source": [
        "**모듈/패키지 활용**"
      ]
    },
    {
      "cell_type": "code",
      "metadata": {
        "id": "Xx1EuD6jgrOC",
        "outputId": "d70529a2-2354-4f3e-a113-32c7ac29d92e",
        "colab": {
          "base_uri": "https://localhost:8080/",
          "height": 107
        }
      },
      "source": [
        "import math # math module 불러오기\n",
        "import math as m # math 모듈을 불러오면서 이름을 m으로 지정\n",
        "from math import sqrt # math안에 있는 sqrt 함수를 직접 불러오기\n",
        "\n",
        "import matplotlib\n",
        "\n",
        "print(2**3) # 2의 세제곱 출력\n",
        "print(pow(2,3)) # python 내장함수 pow를 사용하여 2의 세제곱을 구하여 출력\n",
        "\n",
        "print(math.sqrt(4)) # math함수 안에 있는 sqrt 함수를 호출\n",
        "print(m.sqrt(4)) # m으로 지정된 math 모듈안에 있는 sqrt 함수를 호출\n",
        "print(sqrt(4)) # from ~ import ~ 구문을 통해 직접 불러온 sqrt 함수를 호출"
      ],
      "execution_count": null,
      "outputs": [
        {
          "output_type": "stream",
          "text": [
            "8\n",
            "8\n",
            "2.0\n",
            "2.0\n",
            "2.0\n"
          ],
          "name": "stdout"
        }
      ]
    },
    {
      "cell_type": "markdown",
      "metadata": {
        "id": "XHA91y2UdyXI"
      },
      "source": [
        "**머신러닝 라이브러리 import**"
      ]
    },
    {
      "cell_type": "code",
      "metadata": {
        "id": "vgnXCVU0UBpO"
      },
      "source": [
        "import numpy as np  # 행렬 연산 기능을 제공하는 라이브러리\n",
        "import pandas as pd # 테이블과 시계열을 조작하기 위한 데이터 구조와 연산을 제공하는 라이브러리\n",
        "from sklearn.svm import SVC # SVM (Support Vector Machine)의 모형인 SVC (Support Vector Classifier) 클래스를 제공하는 라이브러리\n",
        "import matplotlib.pyplot as plt # 데이터 시각화 라이브러리\n",
        "import seaborn as sns # 데이터 시각화 라이브러리\n",
        "from keras.models import Sequential # 순차형(Sequential) 모델을 제공하는 라이브러리"
      ],
      "execution_count": null,
      "outputs": []
    }
  ]
}